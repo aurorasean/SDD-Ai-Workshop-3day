{
 "cells": [
  {
   "cell_type": "markdown",
   "id": "063bdcd6-4873-474a-9ff8-1e2b92862fd1",
   "metadata": {},
   "source": [
    "# Metadata extraction/filtering\n",
    "\n",
    "In certain scenarios, RAG benefits from filtering database queries using metadata. This is one of those scenarios. The knowledge base is annual reports from Microsoft, Alphabet, and Meta for the years 2020-2023. We'll chunk the reports, insert the chunks into a ChromaDB database, and tag each chunk with metadata indicating the company name and the year of the report. When asked a question such as \"What was Microsoft's revenue in 2022,\" the app will query the database for relevant chunks where company equals \"microsoft\" and year equals \"2022.\" This way, the app can provide accurate answers without mixing up annual reports from different companies and different years. We'll use an LLM to determine what metadata values, if any, to use for filtering.\n",
    "\n",
    "Start by creating a ChromaDB database in the \"chroma\" subdirectory and creating a collection named \"Annual_Reports:\""
   ]
  },
  {
   "cell_type": "code",
   "execution_count": 1,
   "id": "8302d623-6767-4c34-9b3a-794fac1e5b27",
   "metadata": {},
   "outputs": [],
   "source": [
    "import chromadb\n",
    "\n",
    "client = chromadb.PersistentClient('chroma')\n",
    "collection = client.create_collection(name='Annual_Reports')"
   ]
  },
  {
   "cell_type": "markdown",
   "id": "add8140e-9803-43ea-bef7-7ab0b6daec04",
   "metadata": {},
   "source": [
    "Now use LLamaIndex's `DocxReader` and `PdfReader` classes to extract text from the annual reports in the \"Data\" subdirectory and LlamaIndex's `SentenceSplitter` class to chunk the text. Then insert the chunks into the database along with metadata identifying the company and the year:"
   ]
  },
  {
   "cell_type": "code",
   "execution_count": 2,
   "id": "48b072b9-2138-4b9d-bd4c-1ba2f4942cf7",
   "metadata": {},
   "outputs": [
    {
     "name": "stdout",
     "output_type": "stream",
     "text": [
      "Processing Alphabet_2020.pdf...\n",
      "Processing Alphabet_2021.pdf...\n",
      "Processing Alphabet_2022.pdf...\n",
      "Processing Alphabet_2023.pdf...\n",
      "Processing Meta_2020.pdf...\n",
      "Processing Meta_2021.pdf...\n",
      "Processing Meta_2022.pdf...\n",
      "Processing Meta_2023.pdf...\n",
      "Processing Microsoft_2020.docx...\n",
      "Processing Microsoft_2021.docx...\n",
      "Processing Microsoft_2022.docx...\n",
      "Processing Microsoft_2023.docx...\n"
     ]
    }
   ],
   "source": [
    "import os, re\n",
    "from llama_index.core.node_parser import SentenceSplitter\n",
    "from llama_index.readers.file.docs import DocxReader, PDFReader\n",
    "\n",
    "path = 'Data'\n",
    "pattern = re.compile(r\"^(?P<company>\\w+)_(?P<year>\\d{4})\\.(?P<extension>\\w+)$\")\n",
    "\n",
    "for filename in os.listdir(path):\n",
    "    match = pattern.match(filename)\n",
    "\n",
    "    if match:\n",
    "        company = match.group(\"company\").lower()\n",
    "        year = match.group(\"year\").lower()\n",
    "        extension = match.group(\"extension\").lower()\n",
    "        full_path = os.path.join(path, filename)\n",
    "\n",
    "        if extension == 'pdf':\n",
    "            reader = PDFReader()\n",
    "        elif extension == 'docx':\n",
    "            reader = DocxReader()\n",
    "        else:\n",
    "            continue\n",
    "\n",
    "        print(f'Processing {filename}...')\n",
    "        document = reader.load_data(full_path)\n",
    "        splitter = SentenceSplitter(chunk_size=512, chunk_overlap=40)\n",
    "        nodes = splitter.get_nodes_from_documents(document)\n",
    "\n",
    "        for i, node in enumerate(nodes):\n",
    "            if len(node.text) > 128:\n",
    "                collection.add(\n",
    "                    documents=[node.text],\n",
    "                    metadatas=[{ 'company': company, 'year': year }],\n",
    "                    ids=[f'{company}-{year}-{i:05}']\n",
    "                )"
   ]
  },
  {
   "cell_type": "markdown",
   "id": "056a98a0-420a-42e0-955e-33b40db64653",
   "metadata": {},
   "source": [
    "Define a function to extract metadata values from a question and return a JSON structure that can be used in a `where` clause in a ChromaDB query:"
   ]
  },
  {
   "cell_type": "code",
   "execution_count": 3,
   "id": "3a03a4f9-284b-4eb6-a9d2-ca9359218005",
   "metadata": {},
   "outputs": [],
   "source": [
    "from openai import OpenAI\n",
    "\n",
    "def extract_metadata(question):\n",
    "    content = f'''\n",
    "        The question below will be used to query a vector database. Each item in the database\n",
    "        has metadata values named \"company\" and \"year\" designating the company that the item\n",
    "        pertains to and the year it was recorded. From the question, generate JSON that\n",
    "        indicates which, if any, metadata values should be included in the query and what\n",
    "        values to assign to them. If the company name is \"Google,\" use \"Alphabet\" instead.\n",
    "        If the company name is \"Facebook,\" use \"Meta\" instead.\n",
    "        \n",
    "        If a company name is detected but a year is not, use this format:\n",
    "    \n",
    "        {{\n",
    "            \"company\": \"value\"\n",
    "        }}\n",
    "\n",
    "        If a year is detected but a company name is not, use this format:\n",
    "    \n",
    "        {{\n",
    "            \"year\": \"value\"\n",
    "        }}\n",
    "\n",
    "        If both a company name and a year are detected, use this format:\n",
    "\n",
    "        {{\n",
    "            \"$and\": [\n",
    "                \"company\": \"value\",\n",
    "                \"year\": \"value\"\n",
    "            ]\n",
    "        }}\n",
    "\n",
    "        Do not return markdown. Only return JSON. All JSON values must be strings.\n",
    "        \n",
    "        Question:\n",
    "        {question}\n",
    "        '''\n",
    "\n",
    "    messages = [{ 'role': 'user', 'content': content }]\n",
    "    client = OpenAI(api_key='OPENAI_API_KEY')\n",
    "\n",
    "    response = client.chat.completions.create(\n",
    "        model='gpt-4o',\n",
    "        messages=messages,\n",
    "        response_format={ 'type': 'json_object' }\n",
    "    )\n",
    "\n",
    "    return response.choices[0].message.content"
   ]
  },
  {
   "cell_type": "markdown",
   "id": "552cd2c8-0537-492a-989d-8fa3f1612c8a",
   "metadata": {},
   "source": [
    "Test the function with a question that contains two metadata values:"
   ]
  },
  {
   "cell_type": "code",
   "execution_count": 4,
   "id": "d2fb498e-2fda-4eae-81e2-ec6a65ff42fa",
   "metadata": {},
   "outputs": [
    {
     "name": "stdout",
     "output_type": "stream",
     "text": [
      "{\"$and\": [{\"company\": \"Microsoft\"}, {\"year\": \"2022\"}]}\n"
     ]
    }
   ],
   "source": [
    "print(extract_metadata(\"What was Microsoft's revenue in 2022?\"))"
   ]
  },
  {
   "cell_type": "markdown",
   "id": "1486a311-4257-43fb-bfac-812398cd42c7",
   "metadata": {},
   "source": [
    "Test it with a question that contains one metadata value:"
   ]
  },
  {
   "cell_type": "code",
   "execution_count": 5,
   "id": "30c2ef8a-4963-4806-9c6b-8d5decf71cc8",
   "metadata": {},
   "outputs": [
    {
     "name": "stdout",
     "output_type": "stream",
     "text": [
      "{\"company\": \"Alphabet\"}\n"
     ]
    }
   ],
   "source": [
    "print(extract_metadata(\"Who is Google's CEO?\"))"
   ]
  },
  {
   "cell_type": "markdown",
   "id": "3dc8d9c3-629a-4da6-9489-7b445ade165d",
   "metadata": {},
   "source": [
    "Test it with a question that contains no metadata values:"
   ]
  },
  {
   "cell_type": "code",
   "execution_count": 6,
   "id": "191e47f7-bbc7-4fd4-98de-44feb27a5b4d",
   "metadata": {},
   "outputs": [
    {
     "name": "stdout",
     "output_type": "stream",
     "text": [
      "{}\n"
     ]
    }
   ],
   "source": [
    "print(extract_metadata('What is sustainability?'))"
   ]
  },
  {
   "cell_type": "markdown",
   "id": "057b50d7-2a88-4f59-b42a-25f5263812ef",
   "metadata": {},
   "source": [
    "Load `jina-reranker-v1-turbo-en` for reranking query results:"
   ]
  },
  {
   "cell_type": "code",
   "execution_count": 7,
   "id": "a11eafb9-3aea-4bd3-8fc3-cec278c1fe64",
   "metadata": {},
   "outputs": [
    {
     "name": "stderr",
     "output_type": "stream",
     "text": [
      "C:\\Users\\jeffp\\AppData\\Local\\Programs\\Python\\Python311\\Lib\\site-packages\\sentence_transformers\\cross_encoder\\CrossEncoder.py:13: TqdmExperimentalWarning: Using `tqdm.autonotebook.tqdm` in notebook mode. Use `tqdm.tqdm` instead to force console mode (e.g. in jupyter console)\n",
      "  from tqdm.autonotebook import tqdm, trange\n"
     ]
    },
    {
     "name": "stdout",
     "output_type": "stream",
     "text": [
      "WARNING:tensorflow:From C:\\Users\\jeffp\\AppData\\Local\\Programs\\Python\\Python311\\Lib\\site-packages\\tf_keras\\src\\losses.py:2976: The name tf.losses.sparse_softmax_cross_entropy is deprecated. Please use tf.compat.v1.losses.sparse_softmax_cross_entropy instead.\n",
      "\n"
     ]
    }
   ],
   "source": [
    "from sentence_transformers import CrossEncoder\n",
    "\n",
    "model = CrossEncoder('jinaai/jina-reranker-v1-turbo-en', trust_remote_code=True)"
   ]
  },
  {
   "cell_type": "markdown",
   "id": "2814fec7-083d-469d-a247-2dbd1e8400f0",
   "metadata": {},
   "source": [
    "Define a function for asking questions about the annual reports:"
   ]
  },
  {
   "cell_type": "code",
   "execution_count": 8,
   "id": "86507525-f2da-491f-80d8-2f9b03051eb9",
   "metadata": {},
   "outputs": [],
   "source": [
    "import json\n",
    "\n",
    "def answer_question(question):\n",
    "    client = chromadb.PersistentClient('chroma')\n",
    "    collection = client.get_collection(name='Annual_Reports')    \n",
    "\n",
    "    # Extract metadata from question\n",
    "    metadata = extract_metadata(question).lower()\n",
    "\n",
    "    # Query the database\n",
    "    results = collection.query(\n",
    "        query_texts=[question],\n",
    "        where=json.loads(metadata),\n",
    "        n_results=40\n",
    "    )\n",
    "    \n",
    "    # Exit early if metadata filtering caused the query to return no results\n",
    "    documents = results['documents'][0]\n",
    "\n",
    "    if len(documents) == 0:\n",
    "        print(\"I don't know.\")\n",
    "        return\n",
    "        \n",
    "    # Rerank the results\n",
    "    ranked_documents = model.rank(question, documents, return_documents=True, top_k=20)\n",
    "    context = '\\n\\n'.join(x['text'] for x in ranked_documents)\n",
    "\n",
    "    # Submit the question and the chunks to an LLM and stream the response\n",
    "    client = OpenAI(api_key='OPENAI_API_KEY')\n",
    "\n",
    "    content = f'''\n",
    "        Answer the following question using the provided context, and if the\n",
    "        answer is not contained within the context, say \"I don't know.\" Explain\n",
    "        your answer if possible. Do not mention the provided context in your\n",
    "        output. Do not use markdown formatting. Do not use backslash characters.\n",
    "        \n",
    "        Question:\n",
    "        {question}\n",
    "\n",
    "        Context:\n",
    "        {context}\n",
    "        '''\n",
    "\n",
    "    messages = [{ 'role': 'user', 'content': content }]\n",
    "\n",
    "    response = client.chat.completions.create(\n",
    "        model='gpt-4o',\n",
    "        messages=messages,\n",
    "        stream=True\n",
    "    )\n",
    "\n",
    "    for chunk in response:\n",
    "        content = chunk.choices[0].delta.content\n",
    "        if content is not None:\n",
    "            print(content, end='')  "
   ]
  },
  {
   "cell_type": "markdown",
   "id": "e494d223-908e-4640-bc4c-0cd2de2536d7",
   "metadata": {},
   "source": [
    "Ask a question regarding Microsoft's 2022 revenue:"
   ]
  },
  {
   "cell_type": "code",
   "execution_count": 9,
   "id": "bf9b49c7-b5d1-48b0-a0b7-4159354349ba",
   "metadata": {},
   "outputs": [
    {
     "name": "stdout",
     "output_type": "stream",
     "text": [
      "Microsoft's revenue in 2022 was $198.27 billion."
     ]
    }
   ],
   "source": [
    "answer_question(\"What was Microsoft's revenue in 2022?\")"
   ]
  },
  {
   "cell_type": "markdown",
   "id": "4e6ee5ab-cadc-499e-b9d3-05a536388f93",
   "metadata": {},
   "source": [
    "Do the same for Google in 2023:"
   ]
  },
  {
   "cell_type": "code",
   "execution_count": 10,
   "id": "cee0887c-5d15-41c5-895c-c591dbb9deaf",
   "metadata": {},
   "outputs": [
    {
     "name": "stdout",
     "output_type": "stream",
     "text": [
      "Google's revenue in 2023 was $307.4 billion."
     ]
    }
   ],
   "source": [
    "answer_question(\"What was Google's revenue in 2023?\")"
   ]
  },
  {
   "cell_type": "markdown",
   "id": "d31c36f7-9e0b-4915-9fb7-a4705c1bb240",
   "metadata": {},
   "source": [
    "Ask a question that contains just one metadata value:"
   ]
  },
  {
   "cell_type": "code",
   "execution_count": 11,
   "id": "d75ce297-a77e-4014-91d7-b61fb93ab2c5",
   "metadata": {},
   "outputs": [
    {
     "name": "stdout",
     "output_type": "stream",
     "text": [
      "Diversity is of significant importance at Facebook. The company explicitly states that diversity and inclusion are core to its mission. It aims to create a diverse and inclusive workplace to harness cognitive diversity for better product development and decision-making. Facebook has set ambitious diversity goals, including having 50% of its workforce comprised of underrepresented groups by 2024 and increasing the representation of people of color in leadership roles. Various initiatives are in place to support these goals, including recruiting strategies, training programs, and events aimed at building community and professional development for underrepresented groups."
     ]
    }
   ],
   "source": [
    "answer_question(\"How important is diversity at Facebook?\")"
   ]
  },
  {
   "cell_type": "markdown",
   "id": "fb301eac-32c4-47db-910f-54144b2a6bb3",
   "metadata": {},
   "source": [
    "Ask a question involving a company not represented in the database:"
   ]
  },
  {
   "cell_type": "code",
   "execution_count": 12,
   "id": "2e3eb579-16e2-4eab-be18-2c67e1ff0218",
   "metadata": {},
   "outputs": [
    {
     "name": "stdout",
     "output_type": "stream",
     "text": [
      "I don't know.\n"
     ]
    }
   ],
   "source": [
    "answer_question(\"What was Twitter's revenue in 2022?\")"
   ]
  }
 ],
 "metadata": {
  "kernelspec": {
   "display_name": "Python 3 (ipykernel)",
   "language": "python",
   "name": "python3"
  },
  "language_info": {
   "codemirror_mode": {
    "name": "ipython",
    "version": 3
   },
   "file_extension": ".py",
   "mimetype": "text/x-python",
   "name": "python",
   "nbconvert_exporter": "python",
   "pygments_lexer": "ipython3",
   "version": "3.11.4"
  }
 },
 "nbformat": 4,
 "nbformat_minor": 5
}
