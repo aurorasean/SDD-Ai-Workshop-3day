{
 "cells": [
  {
   "cell_type": "markdown",
   "id": "00457f9c-122e-4c2b-960c-dcec4ee333e7",
   "metadata": {},
   "source": [
    "# Retrieval-Augmented Generation (RAG)\n",
    "\n",
    "The #1 use case for Large Language Models (LLMs) today is putting them over internal documents to make information in those documents easily discoverable. Retrieval-augmented generation (RAG) is a technique that allows LLMs to work with any number of documents of any size. LLMs limit how much text can be input to them in a single call. RAG involves dividing documents into \"chunks\" of (typically) a few hundred words each and generating an embedding vector for each chunk. To answer a question, you generate an embedding vector from the question, identify the *n* most similar embedding vectors, and provide the corresponding chunks of text to the LLM. To improve results, you can use a *reranker* to determine which chunks are the most relevant. Let's demonstrate with a CSV file containing more than 8,000 reviews of BMWs.\n",
    "\n",
    "Start by creating a ChromaDB database to hold the reviews:"
   ]
  },
  {
   "cell_type": "code",
   "execution_count": 1,
   "id": "5271fcf4-92e4-4af3-bc3e-b27f0359dda5",
   "metadata": {},
   "outputs": [],
   "source": [
    "import chromadb\n",
    "\n",
    "client = chromadb.PersistentClient('chroma')\n",
    "collection = client.create_collection(name='Car_Reviews')"
   ]
  },
  {
   "cell_type": "markdown",
   "id": "e2e6fd68-3606-45f8-a992-40a0c81ce520",
   "metadata": {},
   "source": [
    "Now read the CSV file, concatenate the vehicle title and review in each row, and insert the resulting text into the database. Embedding vectors are generated automatically by ChhromaDB. Note that this code crashes the kernel with some versions of ChromaDB. Crashes can usually be averted by downgrading the Python package named `chroma-hnswlib` to version 0.7.3 — for example `pip install chroma-hnswlib==0.7.3`."
   ]
  },
  {
   "cell_type": "code",
   "execution_count": 2,
   "id": "e0fc2b9b-976c-47b0-8540-e22bc0ae9705",
   "metadata": {
    "scrolled": true
   },
   "outputs": [],
   "source": [
    "import re\n",
    "import pandas as pd\n",
    "\n",
    "BATCH_SIZE = 100\n",
    "documents = []\n",
    "ids = []\n",
    "\n",
    "df = pd.read_csv('Data/bmw.csv', engine='python')\n",
    "\n",
    "for i, row in df.iterrows():\n",
    "    vehicle = row['Vehicle_Title']\n",
    "    review = row['Review']\n",
    "\n",
    "    if vehicle and len(vehicle) > 8 and review and len(review) > 128:\n",
    "        review = re.sub(r'[\\r\\n\\t]+', ' ', review)\n",
    "        review = re.sub(r'\\s{2,}', ' ', review)\n",
    "        review = review.strip()\n",
    "        \n",
    "        text = f'Model: {vehicle}\\nReview: {review}'\n",
    "        documents.append(text)\n",
    "        ids.append(f'{i:05}')\n",
    "        \n",
    "        if (i + 1) % BATCH_SIZE == 0 and len(documents) > 0:\n",
    "            collection.add(documents=documents, ids=ids)\n",
    "            documents = []\n",
    "            ids = []\n",
    "\n",
    "if len(documents) > 0:\n",
    "    collection.add(documents=documents, ids=ids)"
   ]
  },
  {
   "cell_type": "markdown",
   "id": "14ea08a2-5a82-4de4-845b-f34113339aa0",
   "metadata": {},
   "source": [
    "Show the first 5 items added to the database:"
   ]
  },
  {
   "cell_type": "code",
   "execution_count": 3,
   "id": "46bb13ea-13a2-4baf-bb34-8abd186dfeac",
   "metadata": {},
   "outputs": [
    {
     "name": "stdout",
     "output_type": "stream",
     "text": [
      "Model: 2014 BMW X1 SUV xDrive28i 4dr SUV AWD (2.0L 4cyl Turbo 8A)\n",
      "Review: We picked this car as a CPO from a BMW dealer. No problems to date. Relatively decent handling for the type car, and just the right size and height. We stayed away from the newer version to avoid a Mini based front wheel platform derived car as opposed to a BMW based one. The new 2018 X1 also features a flimsy cloth covering under the moonroof that I can see ripping quickly. If you want a X1 like this may I suggest springing for the upgraded interior. Base level seating has poor lateral support and are unacceptable. Base halogen headlights are unacceptable and should be avoided. My 3 series coupe has xenons which are \"light years\" better. Sorry!:-) Base sound system is \"media-ocre\" at best. I don't understand the need for moonroofs on BMWs, and wish they would apportion the monies elsewhere and delete them. Acceleration with the 240 hp is considerably better than you would expect for a 4 cyl. It feels like a 6! Braking is only adequate , but some experts blame this on the stock tires rather than the car. I also would like a manual transmission X1 like they have in other countries! When you're shopping, seek out a well optioned example only! A base car sporting only a badge is bad form indeed.\n",
      "----------------------------------------\n",
      "Model: 2014 BMW X1 SUV xDrive28i 4dr SUV AWD (2.0L 4cyl Turbo 8A)\n",
      "Review: 1. Dealership was a joke to work with, lied on two separate occasions about frivolous things.2. Electronics keep tripping – Dealership has no idea. It’s not logging. 3. O2 Sensor light comes on every time I go down my parking garage and stays on for the remainder of the trip. Dealership has no idea what to do. 4. Key fob lasted 2 years. 300 Bucks+ for a new one, excluding programming costs. 5. Gas mileage nowhere near estimated. A daily commuter who uses the interstate. I’m not heavy on the gas, I estimate 20.5 mpg with 91-octane.6. Brand new $39,000. For a 2014 BMW X1, NADA Resale max shows $19,500. At best I lost $19,500 in three years.7. I will never own another BMW. I’ll stick with Lexus and Acura.\n",
      "----------------------------------------\n",
      "Model: 2014 BMW X1 SUV xDrive28i 4dr SUV AWD (2.0L 4cyl Turbo 8A)\n",
      "Review: Drives like a nice little SUV sports car. I would recommend the xdrive over the sdrive, the xDrive has a much better drive feel.\n",
      "----------------------------------------\n",
      "Model: 2014 BMW X1 SUV sDrive28i 4dr SUV (2.0L 4cyl Turbo 8A)\n",
      "Review: 35 mpg on a 3000 mile trip 24+intown in winter don't like run flat tires curbed one cost to replace 400.00 besides being noisy. fun to drive easy to park we are empty nesters so the size works for us .Good dealer service too\n",
      "----------------------------------------\n",
      "Model: 2014 BMW X1 SUV sDrive28i 4dr SUV (2.0L 4cyl Turbo 8A)\n",
      "Review: Purchased 2014 X1 fully loaded with M-Sport package. Great handling car with aggressive sporty ride, coming from a V6 engine it was hard to believe this car was only equipped with turbo 4. Comes with just enough tech to be comfortable (I never cared for Lane Departure Assistance, Front Collision Warning, and other new safety features). It however came with the crappiest quality materials I have seen in German cars, and it because the hard plastics were constantly expanding and rubbing, rattles/creaks were always present. The run flats combined with M suspension did not help either. Oh, and I purchased this vehicle at 45k and 2 years later the value was at 14k so its two year depreciation was @ 68% which is a little steep even for a BMW.\n",
      "----------------------------------------\n"
     ]
    }
   ],
   "source": [
    "items = collection.get()\n",
    "\n",
    "for document in items['documents'][:5]:\n",
    "    print(document)\n",
    "    print('-' * 40)"
   ]
  },
  {
   "cell_type": "markdown",
   "id": "ab297f00-1cfa-4e03-b615-a59c14f542f8",
   "metadata": {},
   "source": [
    "Query the database and show the top 5 items that are likely to contain an answer to a question:"
   ]
  },
  {
   "cell_type": "code",
   "execution_count": 4,
   "id": "7e0f5a94-41ee-47b6-a4d2-0922e018e9a5",
   "metadata": {},
   "outputs": [
    {
     "name": "stdout",
     "output_type": "stream",
     "text": [
      "Score: 0.807755708694458\n",
      "Model: 2000 BMW 3 Series Sedan 328i 4dr Sedan\n",
      "Review: Purchased used with 33,000 miles. This is my second, and how disappointed I am. Way too many problems, with everything from the windows to the braking system, to the engine and etc. 14 trips to the dealer for repairs since 10/2003. I would never buy another, and am looking into an Audi or Mercedes. I do have to admit the the MPG is awesome, at times I have clocked 40+. BMW is not what it used to be!! BMW really needs to work on the reliability. This car is way too expensive to maintain!\n",
      "----------------------------------------\n",
      "Score: 0.7931195497512817\n",
      "Model: 2004 BMW M3 Coupe 2dr Coupe (3.2L 6cyl 6M)\n",
      "Review: I have been driving my M3 for the last 4 years. Truly amazing car. So responsive with exceptional handling. It is turning like on a rail I am not kidding. SMG is amazing once you get used to it - takes a while but once mastered you will love it. So much fun driving in the city. I am getting around 18/25 MPG not great but worth it. Lower the gear step on the gas boom you are there. It is rock solid in terms of reliability. No issues whatsoever. Only change oil twice a year around 100 bucks. E46s are probably the most reliable BMW model ever built. I heard M39s are also pretty reliable.This is one of the best sports car ever. Definitely a head turner.I am sad because it is getting older.\n",
      "----------------------------------------\n",
      "Score: 0.7800027132034302\n",
      "Model: 1999 BMW 3 Series Sedan 323i 4dr Sedan\n",
      "Review: After owning this car for over 5 years I can honestly say it is the most unreliable & expensive to repair vehicle I've ever had. Everything that could go wrong has and at a huge cost to repair. Anyone thinking of buying one of these cars should think again! I've endured complete brake replacements every 15K miles, had to replace almost the entire front suspension (worn ball joints can not be replaced by themselves), the mass air flow sensor, all 6 ignition coils, cam shaft sensor and a whole host of other \"should be reliable\" electronic components have failed. If someone gives you one of these cars - sell it!\n",
      "----------------------------------------\n",
      "Score: 0.7626116871833801\n",
      "Model: 2000 BMW 3 Series Sedan 323i 4dr Sedan\n",
      "Review: I love driving this car and this is the second BMW that I have purchased new. The first was in the late 80s when I lived in Europe. I only kept that car for twelve months. It was an absolute mechanical nightmare. I said, I would never buy a BMW again but test driving it changed my mind within minutes, maybe before I put it in gear. They are by far the most comfortable and amazing car to drive but their reliability is just awful and they severely lack the quality and workmanship of their Japanese competitors. I now know I will never again purchase a BMW. It is definitely a younger persons car and as I dive into my middle age, I need and deserve something more reliable and less hassle.\n",
      "----------------------------------------\n",
      "Score: 0.7405849695205688\n",
      "Model: 2001 BMW 3 Series Sedan 330i Rwd 4dr Sedan (3.0L 6cyl 5M)\n",
      "Review: I bought this car new, and one of my initial reasons for purchase was the excellent resale value of BMW. However, I immediately decided I was going to keep it at least 10 years! What a fun car to drive! It's comfortable, the MPG is tolerable (esp. with $4/gal premium in Chicago), and it has held up very well over the past 7 yrs. I have heard of E46s from this model year suffering from poor workmanship, but I've not had that with this vehicle. Other than traditional maintenance, I've not had any major failures/repairs. And, yes, maintenance IS pricey, but there are plenty of \"foreign car\" shops to use.\n",
      "----------------------------------------\n"
     ]
    }
   ],
   "source": [
    "results = collection.query(\n",
    "    query_texts=['How reliable are BMWs? Are they expensive to work on?'],\n",
    "    n_results=5\n",
    ")\n",
    "\n",
    "documents = list(reversed(results['documents'][0]))\n",
    "scores = list(reversed(results['distances'][0]))\n",
    "\n",
    "for index, document in enumerate(documents):\n",
    "    print(f'Score: {scores[index]}')\n",
    "    print(document)\n",
    "    print('-' * 40)"
   ]
  },
  {
   "cell_type": "markdown",
   "id": "4e7204e3-3014-4e84-8488-89e01e83004e",
   "metadata": {},
   "source": [
    "## Use an LLM to answer questions\n",
    "\n",
    "The next step is to use the database to retrieve relevant chunks and pass them to an LLM for question answering. Define a function that accepts a question, retrieves the 20 most relevant chunks from the database, and passes the question and the chunks to `GPT-4o`:"
   ]
  },
  {
   "cell_type": "code",
   "execution_count": 5,
   "id": "06a9794a-a60a-4113-befa-929e20b3a5b2",
   "metadata": {},
   "outputs": [],
   "source": [
    "from openai import OpenAI\n",
    "\n",
    "def answer_question(question):\n",
    "    # Retrieve relevant chunks from the database\n",
    "    client = chromadb.PersistentClient('chroma')\n",
    "    collection = client.get_collection(name='Car_Reviews')    \n",
    "\n",
    "    results = collection.query(\n",
    "        query_texts=[question],\n",
    "        n_results=20\n",
    "    )\n",
    "\n",
    "    # Concatenate the chunks\n",
    "    documents = results['documents'][0]\n",
    "    context = '\\n\\n'.join(documents)\n",
    "\n",
    "    # Submit the question and the chunks to an LLM and stream the response\n",
    "    client = OpenAI(api_key='OPENAI_API_KEY')\n",
    "\n",
    "    content = f'''\n",
    "        Answer the following question using the provided context, and if the\n",
    "        answer is not contained within the context, say \"I don't know.\" Explain\n",
    "        your answer if possible. Do not mention the provided context in your\n",
    "        output. Do not use markdown formatting.\n",
    "        \n",
    "        Question:\n",
    "        {question}\n",
    "\n",
    "        Context:\n",
    "        {context}\n",
    "        '''\n",
    "\n",
    "    messages = [{ 'role': 'user', 'content': content }]\n",
    "\n",
    "    response = client.chat.completions.create(\n",
    "        model='gpt-4o',\n",
    "        messages=messages,\n",
    "        stream=True\n",
    "    )\n",
    "\n",
    "    for chunk in response:\n",
    "        content = chunk.choices[0].delta.content\n",
    "        if content is not None:\n",
    "            print(content, end='')    "
   ]
  },
  {
   "cell_type": "markdown",
   "id": "9637a72a-2a29-41aa-bed0-11d21146e031",
   "metadata": {},
   "source": [
    "Ask the LLM a question about BMWs:"
   ]
  },
  {
   "cell_type": "code",
   "execution_count": 6,
   "id": "f19b2905-bb8d-4d36-bb16-7b840d6b535a",
   "metadata": {},
   "outputs": [
    {
     "name": "stdout",
     "output_type": "stream",
     "text": [
      "The reliability of BMWs seems to vary significantly across different models and individual experiences. Some owners report high reliability and minimal issues, while others experience frequent mechanical problems and costly repairs. Generally, maintenance costs for BMWs are considered high, and parts can be expensive. Therefore, while some BMWs are reliable for their owners, they are overall expensive to maintain and repair."
     ]
    }
   ],
   "source": [
    "answer_question('How reliable are BMWs? Are they expensive to work on?')"
   ]
  },
  {
   "cell_type": "markdown",
   "id": "e3650656-48ee-4ca2-aabe-9e641f5c2e8c",
   "metadata": {},
   "source": [
    "Ask another question:"
   ]
  },
  {
   "cell_type": "code",
   "execution_count": 7,
   "id": "6c39a11e-fd19-4552-95d0-95e372aa6c4d",
   "metadata": {},
   "outputs": [
    {
     "name": "stdout",
     "output_type": "stream",
     "text": [
      "I don't know."
     ]
    }
   ],
   "source": [
    "answer_question('What are three good reasons to buy a BMW? What are three good reasons NOT to buy a BMW?')"
   ]
  },
  {
   "cell_type": "markdown",
   "id": "a0fe5c89-8a31-4840-8769-40770c4cfe96",
   "metadata": {},
   "source": [
    "Make sure the LLM will answer \"I don't know\" to a question that has nothing to do with BMWs:"
   ]
  },
  {
   "cell_type": "code",
   "execution_count": 8,
   "id": "c2f73586-fa68-42f1-aac1-d8628f474b2a",
   "metadata": {},
   "outputs": [
    {
     "name": "stdout",
     "output_type": "stream",
     "text": [
      "I don't know."
     ]
    }
   ],
   "source": [
    "answer_question('Why is the sky blue?')"
   ]
  },
  {
   "cell_type": "markdown",
   "id": "68ebdd6a-6623-4832-bdb5-9f91ea79b300",
   "metadata": {},
   "source": [
    "## Add reranking\n",
    "\n",
    "Using the distance between embedding vectors to determine relevance isn't perfect. It's frequently helpful to retrieve candidate chunks from the database and then use a *reranker* to determine which chunks really are the most relevant. Rerankers come in many forms. The most commonly used rerankers are *cross encoders*, which are language models trained to quantify the relevance between two text samples. Let's load the `jina-reranker-v1-turbo-en` cross encoder from [Hugging Face](https://huggingface.co/jinaai/jina-reranker-v1-turbo-en) so we can use it for reranking:"
   ]
  },
  {
   "cell_type": "code",
   "execution_count": 9,
   "id": "caf5e218-7505-4bba-ab5c-c49c04d1eeb4",
   "metadata": {},
   "outputs": [
    {
     "name": "stderr",
     "output_type": "stream",
     "text": [
      "C:\\Users\\jeffp\\AppData\\Local\\Programs\\Python\\Python311\\Lib\\site-packages\\sentence_transformers\\cross_encoder\\CrossEncoder.py:13: TqdmExperimentalWarning: Using `tqdm.autonotebook.tqdm` in notebook mode. Use `tqdm.tqdm` instead to force console mode (e.g. in jupyter console)\n",
      "  from tqdm.autonotebook import tqdm, trange\n"
     ]
    },
    {
     "name": "stdout",
     "output_type": "stream",
     "text": [
      "WARNING:tensorflow:From C:\\Users\\jeffp\\AppData\\Local\\Programs\\Python\\Python311\\Lib\\site-packages\\tf_keras\\src\\losses.py:2976: The name tf.losses.sparse_softmax_cross_entropy is deprecated. Please use tf.compat.v1.losses.sparse_softmax_cross_entropy instead.\n",
      "\n"
     ]
    }
   ],
   "source": [
    "from sentence_transformers import CrossEncoder\n",
    "\n",
    "model = CrossEncoder('jinaai/jina-reranker-v1-turbo-en', trust_remote_code=True)"
   ]
  },
  {
   "cell_type": "markdown",
   "id": "3212189a-8222-4cfa-ac7c-5732ce73a28a",
   "metadata": {},
   "source": [
    "Retrieve 10 chunks from the database to answer a question, and then use the reranker to pick the top 5. How do these chunks compare to 5 selected earlier?"
   ]
  },
  {
   "cell_type": "code",
   "execution_count": 10,
   "id": "910c5434-f979-435c-95fc-30a3d8d03f9b",
   "metadata": {},
   "outputs": [
    {
     "name": "stdout",
     "output_type": "stream",
     "text": [
      "Score: 0.31681326031684875\n",
      "Model: 2004 BMW 3 Series Sedan 330i Rwd 4dr Sedan (3.0L 6cyl 6M)\n",
      "Review: I've had about 10 different cars throughout my lifespan of only 29 years! I have owned three BMWs VWs a Toyota, Mazda and have driven many other vehicles. This is by far the BEST vehicle ever built. Way to go BMW. I had the 330i fully stocked with navigation, cold weather, premium and 6-speed manual. It was a rare find and I was stupid enough to trade it in and regret it everyday. The engine was silky smooth and soo powerful. IT handled like butter and could turn on a dime. The car felt like you were driving on roller coaster tracks everywhere you went. The gas mileage was excellent. These cars will also you a lifetime I've seen engines go for 300K miles. The inline 6 is so reliable and fun!\n",
      "----------------------------------------\n",
      "Score: 0.3021884560585022\n",
      "Model: 2001 BMW 7 Series Sedan 740iL 4dr Sedan (4.4L 8cyl 5A)\n",
      "Review: This is a great car! Especially powerful and classy. However, BMW has done some cheap things - like window shades and rear cup holders that fall apart the first time you use them. And the \"Certified\" warranty does not cover them. Also, the door jams are PAINTED and scuff easily. Within days your BMW will look scuffed up! BMW will not sell any touch-up paint for them. All BMWs are the same way. Good fuel economy for a heavy car. Lots of trunk space. The GPS is hard to use and built in phone sytem unusable with today's technology. VERY expensive to repair. Uses high-octane fuel. After 12 months it started to lack power and act sluggish. Needed some dealrer maintenance.\n",
      "----------------------------------------\n",
      "Score: 0.22471734881401062\n",
      "Model: 2007 BMW 3 Series Sedan 328i 4dr Sedan (3.0L 6cyl 6M)\n",
      "Review: Our 2007 BMW 328i (3.0 litre I6) is one of the best cars out there! The 3.0 litre I6 hasplenty power! The 230 horses has gotten us to 105 EASILY! The only problem we've had so far is an oil leak...that costs about 1k to fix...but its worth having the car! I'm not a huge fan of the fake wood on the dash and panels but whatever. I'm actually kind of glad we dont have iDrive because i've heard up until 2009 models, iDrive has sucked. The BMW professional sound system is great! Rear seat room is ok...front seats are comfortable enough. Luckily German cars have a lot of pop-on parts. One of the coolest features is the BMW flashlight in the glove compartment! This car is great! We bought it for 8k, but it was really priced at 14k. We bought it in December of 2015. But resale value on BMWs is horrible. This car is GREAT!\n",
      "----------------------------------------\n",
      "Score: 0.2056308388710022\n",
      "Model: 2000 BMW 3 Series Sedan 328i 4dr Sedan\n",
      "Review: Purchased used with 33,000 miles. This is my second, and how disappointed I am. Way too many problems, with everything from the windows to the braking system, to the engine and etc. 14 trips to the dealer for repairs since 10/2003. I would never buy another, and am looking into an Audi or Mercedes. I do have to admit the the MPG is awesome, at times I have clocked 40+. BMW is not what it used to be!! BMW really needs to work on the reliability. This car is way too expensive to maintain!\n",
      "----------------------------------------\n",
      "Score: 0.1711985319852829\n",
      "Model: 1999 BMW 3 Series Sedan 323i 4dr Sedan\n",
      "Review: After owning this car for over 5 years I can honestly say it is the most unreliable & expensive to repair vehicle I've ever had. Everything that could go wrong has and at a huge cost to repair. Anyone thinking of buying one of these cars should think again! I've endured complete brake replacements every 15K miles, had to replace almost the entire front suspension (worn ball joints can not be replaced by themselves), the mass air flow sensor, all 6 ignition coils, cam shaft sensor and a whole host of other \"should be reliable\" electronic components have failed. If someone gives you one of these cars - sell it!\n",
      "----------------------------------------\n"
     ]
    }
   ],
   "source": [
    "question = 'How reliable are BMWs? Are they expensive to work on?'\n",
    "\n",
    "results = collection.query(\n",
    "    query_texts=[question],\n",
    "    n_results=10\n",
    ")\n",
    "\n",
    "documents = results['documents'][0]\n",
    "ranked_documents = model.rank(question, documents, return_documents=True, top_k=5)\n",
    "\n",
    "for document in ranked_documents:\n",
    "    print(f\"Score: {document['score']}\")\n",
    "    print(document['text'])\n",
    "    print('-' * 40)"
   ]
  },
  {
   "cell_type": "markdown",
   "id": "62492f87-e0d3-43b0-b76b-1f31543b1ed3",
   "metadata": {},
   "source": [
    "Rewrite the `answer_question` function to retrieve 40 chunks from the database and use the cross encoder to pick the best 20:"
   ]
  },
  {
   "cell_type": "code",
   "execution_count": 11,
   "id": "2150d9f8-a7f9-4cc1-a76b-4edbe021b6b4",
   "metadata": {},
   "outputs": [],
   "source": [
    "def answer_question(question):\n",
    "    # Retrieve 40 relevant chunks from the database\n",
    "    client = chromadb.PersistentClient('chroma')\n",
    "    collection = client.get_collection(name='Car_Reviews')    \n",
    "\n",
    "    results = collection.query(\n",
    "        query_texts=[question],\n",
    "        n_results=40\n",
    "    )\n",
    "\n",
    "    # Use the cross encoder to find the 20 most relevant chunks\n",
    "    documents = results['documents'][0]\n",
    "    ranked_documents = model.rank(question, documents, return_documents=True, top_k=20)\n",
    "    context = '\\n\\n'.join(x['text'] for x in ranked_documents)\n",
    "\n",
    "    # Submit the question and the chunks to an LLM and stream the response\n",
    "    client = OpenAI(api_key='OPENAI_API_KEY')\n",
    "\n",
    "    content = f'''\n",
    "        Answer the following question using the provided context, and if the\n",
    "        answer is not contained within the context, say \"I don't know.\" Explain\n",
    "        your answer if possible. Do not mention the provided context in your\n",
    "        output. Do not use markdown formatting.\n",
    "        \n",
    "        Question:\n",
    "        {question}\n",
    "\n",
    "        Context:\n",
    "        {context}\n",
    "        '''\n",
    "\n",
    "    messages = [{ 'role': 'user', 'content': content }]\n",
    "\n",
    "    response = client.chat.completions.create(\n",
    "        model='gpt-4o',\n",
    "        messages=messages,\n",
    "        stream=True\n",
    "    )\n",
    "\n",
    "    for chunk in response:\n",
    "        content = chunk.choices[0].delta.content\n",
    "        if content is not None:\n",
    "            print(content, end='')   "
   ]
  },
  {
   "cell_type": "markdown",
   "id": "56de4a23-e46b-42cc-8faa-e35fa661ef76",
   "metadata": {},
   "source": [
    "Use the modified function to answer a question about BMWs:"
   ]
  },
  {
   "cell_type": "code",
   "execution_count": 12,
   "id": "3e3d231d-4e5d-481a-a5a7-eed908b6f6f3",
   "metadata": {},
   "outputs": [
    {
     "name": "stdout",
     "output_type": "stream",
     "text": [
      "BMWs have a mixed reputation for reliability. Some owners report their BMWs as reliable and long-lasting, whereas others express dissatisfaction with frequent mechanical issues and time-consuming repairs. There seems to be a consensus that while BMWs offer excellent driving dynamics and build quality, they can be expensive to maintain and repair. Common issues noted include high costs of parts and maintenance, electronic component failures, and expensive repair bills, especially as the vehicles age. Hence, BMWs are generally considered to be expensive to work on."
     ]
    }
   ],
   "source": [
    "answer_question('How reliable are BMWs? Are they expensive to work on?')"
   ]
  },
  {
   "cell_type": "markdown",
   "id": "8a2d93b2-5aee-49ae-8272-7bbcfcbf8d06",
   "metadata": {},
   "source": [
    "Try again with a question that the LLM wasn't able to answer earlier:"
   ]
  },
  {
   "cell_type": "code",
   "execution_count": 13,
   "id": "f39251ef-6ab9-413b-8fa3-5aa0788dde9e",
   "metadata": {},
   "outputs": [
    {
     "name": "stdout",
     "output_type": "stream",
     "text": [
      "Three good reasons to buy a BMW include the enjoyable driving experience, high-quality engineering, and luxurious interior features. Many reviewers describe BMWs as fun to drive, with excellent handling and performance characteristics, which align with BMW's reputation as the \"ultimate driving machine.\" Additionally, the build quality and craftsmanship are often praised, indicating a high standard of engineering. Lastly, the interior design and comfort frequently receive positive comments, making BMWs a desirable choice for those seeking luxury features.\n",
      "\n",
      "On the other hand, three good reasons not to buy a BMW include high maintenance costs, potential reliability issues, and poor resale value. Multiple reviewers mention the expensive upkeep associated with owning a BMW, with repair costs often being significantly higher than those for other brands. Some reviews also highlight reliability concerns, noting frequent repairs and mechanical issues. Finally, several owners express disappointment with the rapid depreciation of BMWs, which can significantly affect resale value."
     ]
    }
   ],
   "source": [
    "answer_question('What are three good reasons to buy a BMW? What are three good reasons NOT to buy a BMW?')"
   ]
  },
  {
   "cell_type": "markdown",
   "id": "ac30cda4-b00b-4450-af39-569537832a96",
   "metadata": {},
   "source": [
    "Make sure the LLM will still admit it doesn't know the answer when the chunks provided to it don't contain the answer to a question:"
   ]
  },
  {
   "cell_type": "code",
   "execution_count": 14,
   "id": "5e8af7d0-253b-4d98-b32c-b9a060118e07",
   "metadata": {},
   "outputs": [
    {
     "name": "stdout",
     "output_type": "stream",
     "text": [
      "I don't know."
     ]
    }
   ],
   "source": [
    "answer_question('Why is the sky blue?')"
   ]
  }
 ],
 "metadata": {
  "kernelspec": {
   "display_name": "Python 3 (ipykernel)",
   "language": "python",
   "name": "python3"
  },
  "language_info": {
   "codemirror_mode": {
    "name": "ipython",
    "version": 3
   },
   "file_extension": ".py",
   "mimetype": "text/x-python",
   "name": "python",
   "nbconvert_exporter": "python",
   "pygments_lexer": "ipython3",
   "version": "3.11.4"
  }
 },
 "nbformat": 4,
 "nbformat_minor": 5
}
