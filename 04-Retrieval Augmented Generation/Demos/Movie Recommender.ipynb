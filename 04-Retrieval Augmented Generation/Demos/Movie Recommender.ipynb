{
 "cells": [
  {
   "cell_type": "markdown",
   "metadata": {
    "colab": {
     "base_uri": "https://localhost:8080/",
     "height": 794
    },
    "id": "HJdj-PcACTV7",
    "outputId": "5e81b563-c241-42d9-e878-919454ec6a08"
   },
   "source": [
    "# Embeddings-based recommendations\n",
    "\n",
    "Text embeddings can be used to build recommendation systems that recommend products such as books and movies based on other products that you like. The basic approach is to create embeddings from textual descriptions of each item and then use a technique such as [cosine similarity](https://en.wikipedia.org/wiki/Cosine_similarity) to quantify similarity between embeddings. Scikit-learn provides tools such as the [cosine_similarity](https://scikit-learn.org/stable/modules/generated/sklearn.metrics.pairwise.cosine_similarity.html) function to aid in computing similarity, while OpenAI offers embeddings models such as `text-embedding-3-small` to create high-quality embeddings. Let's build an embeddings-based recommendation system that takes a movie title as input and returns a list of similar movies.\n",
    "\n",
    "![](Images/movies.png)\n",
    "\n",
    "Start by loading a database of 4,800 movies that includes information such as the director, the cast, and the genre of each movie, as well as keywords describing the movie."
   ]
  },
  {
   "cell_type": "code",
   "execution_count": null,
   "metadata": {},
   "outputs": [],
   "source": [
    "import pandas as pd\n",
    "\n",
    "df = pd.read_csv('Data/movies.csv')\n",
    "df.head()"
   ]
  },
  {
   "cell_type": "markdown",
   "metadata": {},
   "source": [
    "Remove all of the columns except the ones that will be used to quantify similarities between movies."
   ]
  },
  {
   "cell_type": "code",
   "execution_count": 2,
   "metadata": {
    "colab": {
     "base_uri": "https://localhost:8080/",
     "height": 293
    },
    "id": "JBiHtn_ICXMb",
    "outputId": "f92d16bb-e054-4318-859d-0e8ad3dbc8f2"
   },
   "outputs": [
    {
     "data": {
      "text/html": [
       "<div>\n",
       "<style scoped>\n",
       "    .dataframe tbody tr th:only-of-type {\n",
       "        vertical-align: middle;\n",
       "    }\n",
       "\n",
       "    .dataframe tbody tr th {\n",
       "        vertical-align: top;\n",
       "    }\n",
       "\n",
       "    .dataframe thead th {\n",
       "        text-align: right;\n",
       "    }\n",
       "</style>\n",
       "<table border=\"1\" class=\"dataframe\">\n",
       "  <thead>\n",
       "    <tr style=\"text-align: right;\">\n",
       "      <th></th>\n",
       "      <th>title</th>\n",
       "      <th>genres</th>\n",
       "      <th>keywords</th>\n",
       "      <th>cast</th>\n",
       "      <th>director</th>\n",
       "    </tr>\n",
       "  </thead>\n",
       "  <tbody>\n",
       "    <tr>\n",
       "      <th>0</th>\n",
       "      <td>Avatar</td>\n",
       "      <td>Action Adventure Fantasy Science Fiction</td>\n",
       "      <td>culture clash future space war space colony so...</td>\n",
       "      <td>Sam Worthington Zoe Saldana Sigourney Weaver S...</td>\n",
       "      <td>James Cameron</td>\n",
       "    </tr>\n",
       "    <tr>\n",
       "      <th>1</th>\n",
       "      <td>Pirates of the Caribbean: At World's End</td>\n",
       "      <td>Adventure Fantasy Action</td>\n",
       "      <td>ocean drug abuse exotic island east india trad...</td>\n",
       "      <td>Johnny Depp Orlando Bloom Keira Knightley Stel...</td>\n",
       "      <td>Gore Verbinski</td>\n",
       "    </tr>\n",
       "    <tr>\n",
       "      <th>2</th>\n",
       "      <td>Spectre</td>\n",
       "      <td>Action Adventure Crime</td>\n",
       "      <td>spy based on novel secret agent sequel mi6</td>\n",
       "      <td>Daniel Craig Christoph Waltz L\\u00e9a Seydoux ...</td>\n",
       "      <td>Sam Mendes</td>\n",
       "    </tr>\n",
       "    <tr>\n",
       "      <th>3</th>\n",
       "      <td>The Dark Knight Rises</td>\n",
       "      <td>Action Crime Drama Thriller</td>\n",
       "      <td>dc comics crime fighter terrorist secret ident...</td>\n",
       "      <td>Christian Bale Michael Caine Gary Oldman Anne ...</td>\n",
       "      <td>Christopher Nolan</td>\n",
       "    </tr>\n",
       "    <tr>\n",
       "      <th>4</th>\n",
       "      <td>John Carter</td>\n",
       "      <td>Action Adventure Science Fiction</td>\n",
       "      <td>based on novel mars medallion space travel pri...</td>\n",
       "      <td>Taylor Kitsch Lynn Collins Samantha Morton Wil...</td>\n",
       "      <td>Andrew Stanton</td>\n",
       "    </tr>\n",
       "  </tbody>\n",
       "</table>\n",
       "</div>"
      ],
      "text/plain": [
       "                                      title  \\\n",
       "0                                    Avatar   \n",
       "1  Pirates of the Caribbean: At World's End   \n",
       "2                                   Spectre   \n",
       "3                     The Dark Knight Rises   \n",
       "4                               John Carter   \n",
       "\n",
       "                                     genres  \\\n",
       "0  Action Adventure Fantasy Science Fiction   \n",
       "1                  Adventure Fantasy Action   \n",
       "2                    Action Adventure Crime   \n",
       "3               Action Crime Drama Thriller   \n",
       "4          Action Adventure Science Fiction   \n",
       "\n",
       "                                            keywords  \\\n",
       "0  culture clash future space war space colony so...   \n",
       "1  ocean drug abuse exotic island east india trad...   \n",
       "2         spy based on novel secret agent sequel mi6   \n",
       "3  dc comics crime fighter terrorist secret ident...   \n",
       "4  based on novel mars medallion space travel pri...   \n",
       "\n",
       "                                                cast           director  \n",
       "0  Sam Worthington Zoe Saldana Sigourney Weaver S...      James Cameron  \n",
       "1  Johnny Depp Orlando Bloom Keira Knightley Stel...     Gore Verbinski  \n",
       "2  Daniel Craig Christoph Waltz L\\u00e9a Seydoux ...         Sam Mendes  \n",
       "3  Christian Bale Michael Caine Gary Oldman Anne ...  Christopher Nolan  \n",
       "4  Taylor Kitsch Lynn Collins Samantha Morton Wil...     Andrew Stanton  "
      ]
     },
     "execution_count": 2,
     "metadata": {},
     "output_type": "execute_result"
    }
   ],
   "source": [
    "df = df[['title', 'genres', 'keywords', 'cast', 'director']]\n",
    "df = df.fillna('') # Fill missing values with empty strings\n",
    "df.head()"
   ]
  },
  {
   "cell_type": "markdown",
   "metadata": {},
   "source": [
    "Add a new column named \"features\" to the DataFrame that combines all of the words in the other columns."
   ]
  },
  {
   "cell_type": "code",
   "execution_count": 3,
   "metadata": {
    "id": "YP8NnK5eCa1R"
   },
   "outputs": [],
   "source": [
    "df['features'] = df['title'] + ' ' + df['genres'] + ' ' + df['keywords'] + ' ' + df['cast'] + ' ' + df['director']"
   ]
  },
  {
   "cell_type": "markdown",
   "metadata": {},
   "source": [
    "Use OpenAI's `text-embedding-3-small` model to generate an embedding for each feature and Scikit's [cosine_similarity](https://scikit-learn.org/stable/modules/generated/sklearn.metrics.pairwise.cosine_similarity.html) function to generate a similarity matrix."
   ]
  },
  {
   "cell_type": "code",
   "execution_count": 4,
   "metadata": {},
   "outputs": [
    {
     "data": {
      "text/plain": [
       "(4803, 256)"
      ]
     },
     "execution_count": 4,
     "metadata": {},
     "output_type": "execute_result"
    }
   ],
   "source": [
    "import numpy as np\n",
    "from openai import OpenAI\n",
    "\n",
    "client = OpenAI(api_key='OPENAI_API_KEY')\n",
    "embeddings = []\n",
    "\n",
    "for index, row in df.iterrows():\n",
    "    feature = row['features']\n",
    "\n",
    "    response = client.embeddings.create(\n",
    "        model='text-embedding-3-small',\n",
    "        dimensions=256, # Limit each embedding bector to 256 dimensions\n",
    "        input=feature\n",
    "    )\n",
    "\n",
    "    embeddings.append(response.data[0].embedding)\n",
    "\n",
    "word_matrix = np.array(embeddings)\n",
    "word_matrix.shape"
   ]
  },
  {
   "cell_type": "markdown",
   "metadata": {},
   "source": [
    "Compute cosine similarities for all the vector pairs."
   ]
  },
  {
   "cell_type": "code",
   "execution_count": 5,
   "metadata": {
    "id": "h6Yrjd43Chca"
   },
   "outputs": [],
   "source": [
    "from sklearn.metrics.pairwise import cosine_similarity\n",
    "\n",
    "sim = cosine_similarity(word_matrix)"
   ]
  },
  {
   "cell_type": "markdown",
   "metadata": {},
   "source": [
    "Define a function that takes a movie title as input and returns a list of similar movies, and then use that function to make some recommendations."
   ]
  },
  {
   "cell_type": "code",
   "execution_count": 6,
   "metadata": {
    "id": "_qBg56EgCoPK"
   },
   "outputs": [],
   "source": [
    "def get_recommendations(title, df, sim, count=10):\n",
    "    # Get the row index of the specified title in the DataFrame\n",
    "    index = df.index[df['title'].str.lower() == title.lower()]\n",
    "\n",
    "    # Return an empty list if there is no entry for the specified title\n",
    "    if (len(index) == 0):\n",
    "        return []\n",
    "\n",
    "    # Get the corresponding row in the similarity matrix\n",
    "    similarities = list(enumerate(sim[index[0]]))\n",
    "\n",
    "    # Sort the similarity scores in that row in descending order\n",
    "    recommendations = sorted(similarities, key=lambda x: x[1], reverse=True)\n",
    "\n",
    "    # Get the top n recommendations, ignoring the first entry in the list since\n",
    "    # it corresponds to the title itself (and thus has a similarity of 1.0)\n",
    "    top_recs = recommendations[1:count + 1]\n",
    "\n",
    "    # Generate a list of titles from the indexes in top_recs\n",
    "    titles = []\n",
    "\n",
    "    for i in range(len(top_recs)):\n",
    "        title = df.iloc[top_recs[i][0]]['title']\n",
    "        titles.append(title)\n",
    "\n",
    "    return titles"
   ]
  },
  {
   "cell_type": "markdown",
   "metadata": {},
   "source": [
    "Use the `get_recommendations` function to identify 10 movies that are similar to the James Bond thriller [Skyfall](https://en.wikipedia.org/wiki/Skyfall):"
   ]
  },
  {
   "cell_type": "code",
   "execution_count": 7,
   "metadata": {
    "colab": {
     "base_uri": "https://localhost:8080/"
    },
    "id": "lQu_cPDaCrHc",
    "outputId": "1f1772fa-3b7e-450b-bc6d-36f4a43b212a"
   },
   "outputs": [
    {
     "data": {
      "text/plain": [
       "['Spectre',\n",
       " 'Quantum of Solace',\n",
       " 'Casino Royale',\n",
       " 'Layer Cake',\n",
       " 'Die Another Day',\n",
       " 'Tomorrow Never Dies',\n",
       " 'Renaissance',\n",
       " 'Dr. No',\n",
       " 'Trance',\n",
       " 'Entrapment']"
      ]
     },
     "execution_count": 7,
     "metadata": {},
     "output_type": "execute_result"
    }
   ],
   "source": [
    "get_recommendations('Skyfall', df, sim)"
   ]
  },
  {
   "cell_type": "markdown",
   "metadata": {},
   "source": [
    "If you like Disney movies, how about movies that are similar to [Mulan](https://www.imdb.com/title/tt4566758/)?"
   ]
  },
  {
   "cell_type": "code",
   "execution_count": 8,
   "metadata": {
    "colab": {
     "base_uri": "https://localhost:8080/"
    },
    "id": "Um5lpLHpCukc",
    "outputId": "57cf774e-baa8-4c8b-e063-c0a7713b6321"
   },
   "outputs": [
    {
     "data": {
      "text/plain": [
       "['Tangled',\n",
       " 'Shanghai Noon',\n",
       " 'Aladdin',\n",
       " 'Looney Tunes: Back in Action',\n",
       " 'The Tigger Movie',\n",
       " 'Kung Fu Panda',\n",
       " 'Kung Fu Panda 2',\n",
       " 'Enchanted',\n",
       " 'Shrek',\n",
       " 'Flubber']"
      ]
     },
     "execution_count": 8,
     "metadata": {},
     "output_type": "execute_result"
    }
   ],
   "source": [
    "get_recommendations('Mulan', df, sim)"
   ]
  },
  {
   "cell_type": "markdown",
   "metadata": {},
   "source": [
    "Now find action movies that are similar to [Die Hard](https://www.imdb.com/title/tt0095016/):"
   ]
  },
  {
   "cell_type": "code",
   "execution_count": 9,
   "metadata": {},
   "outputs": [
    {
     "data": {
      "text/plain": [
       "['Die Hard 2',\n",
       " 'Live Free or Die Hard',\n",
       " 'Die Hard: With a Vengeance',\n",
       " 'RED',\n",
       " 'Wanted',\n",
       " 'Broken Arrow',\n",
       " 'Executive Decision',\n",
       " 'Eraser',\n",
       " 'Con Air',\n",
       " 'Cradle 2 the Grave']"
      ]
     },
     "execution_count": 9,
     "metadata": {},
     "output_type": "execute_result"
    }
   ],
   "source": [
    "get_recommendations('Die Hard', df, sim)"
   ]
  }
 ],
 "metadata": {
  "colab": {
   "provenance": []
  },
  "kernelspec": {
   "display_name": "Python 3 (ipykernel)",
   "language": "python",
   "name": "python3"
  },
  "language_info": {
   "codemirror_mode": {
    "name": "ipython",
    "version": 3
   },
   "file_extension": ".py",
   "mimetype": "text/x-python",
   "name": "python",
   "nbconvert_exporter": "python",
   "pygments_lexer": "ipython3",
   "version": "3.11.4"
  }
 },
 "nbformat": 4,
 "nbformat_minor": 4
}
