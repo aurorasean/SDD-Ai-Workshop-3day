{
 "cells": [
  {
   "cell_type": "markdown",
   "id": "23b733cc",
   "metadata": {},
   "source": [
    "# SQL-Augmented Generation: Putting LLMs Over Databases\n",
    "\n",
    "You can put an LLM over a database by using it to convert natural-language questions such as \"How many employees does Northwind have?\" into SQL queries and executing those queries against the database. You can also automate the process using function calling. The following examples use `GPT-4o` to expose information in Microsoft's Northwind database. They require [SQLite3](https://www.sqlite.org/index.html).\n",
    "\n",
    "Begin by using SQLite3 to connect to the database and list the names of all Northwind employees:"
   ]
  },
  {
   "cell_type": "code",
   "execution_count": 1,
   "id": "3a5b0f4e",
   "metadata": {
    "scrolled": true
   },
   "outputs": [
    {
     "name": "stdout",
     "output_type": "stream",
     "text": [
      "Nancy Davolio\n",
      "Andrew Fuller\n",
      "Janet Leverling\n",
      "Margaret Peacock\n",
      "Steven Buchanan\n",
      "Michael Suyama\n",
      "Robert King\n",
      "Laura Callahan\n",
      "Anne Dodsworth\n"
     ]
    }
   ],
   "source": [
    "import sqlite3\n",
    "\n",
    "connection = sqlite3.connect('Data/northwind.db')\n",
    "cursor = connection.cursor()\n",
    "cursor.execute('SELECT * FROM Employees')\n",
    "rows = cursor.fetchall()\n",
    "\n",
    "for row in rows:\n",
    "    print(row[2] + ' ' + row[1])"
   ]
  },
  {
   "cell_type": "markdown",
   "id": "b332d630",
   "metadata": {},
   "source": [
    "Now use `GPT-4o` to convert a question into a SQL query. Observe that the prompt includes a CREATE TABLE statement that details the structure of the Employees table to the LLM. Also note that the \"Photos\" field containing employees photos is omitted from the schema. That field is problematic if used in a query because its contents aren't readily converted to JSON:"
   ]
  },
  {
   "cell_type": "code",
   "execution_count": null,
   "id": "639aa22d",
   "metadata": {},
   "outputs": [
    {
     "name": "stdout",
     "output_type": "stream",
     "text": [
      "SELECT COUNT(EmployeeID) AS NumberOfEmployees FROM Employees;\n"
     ]
    }
   ],
   "source": [
    "from openai import OpenAI\n",
    "\n",
    "client = OpenAI(api_key='OPENAI_API_KEY')\n",
    "question = 'How many employees does Northwind have?'\n",
    "\n",
    "prompt = f'''\n",
    "    Generate a well-formed SQLite query from the prompt below. Return\n",
    "    the SQL only. Do not use markdown formatting, and do not use SELECT *.\n",
    "    \n",
    "    PROMPT: {question}\n",
    "    \n",
    "    Assume the database has a table named Employees that is defined as follows:\n",
    "    \n",
    "    CREATE TABLE [Employees]\n",
    "    (\n",
    "        [EmployeeID] INTEGER PRIMARY KEY AUTOINCREMENT,\n",
    "        [LastName] TEXT,\n",
    "        [FirstName] TEXT,\n",
    "        [Title] TEXT,\n",
    "        [TitleOfCourtesy] TEXT,\n",
    "        [BirthDate] DATE,\n",
    "        [HireDate] DATE,\n",
    "        [Address] TEXT,\n",
    "        [City] TEXT,\n",
    "        [Region] TEXT,\n",
    "        [PostalCode] TEXT,\n",
    "        [Country] TEXT,\n",
    "        [HomePhone] TEXT,\n",
    "        [Extension] TEXT,\n",
    "        [Notes] TEXT,\n",
    "        [ReportsTo] INTEGER\n",
    "    )\n",
    "    '''\n",
    "\n",
    "messages = [{ 'role': 'user', 'content': prompt }]\n",
    "\n",
    "response = client.chat.completions.create(\n",
    "    model='gpt-4o',\n",
    "    messages=messages,\n",
    "    temperature=0\n",
    ")\n",
    "\n",
    "sql = response.choices[0].message.content\n",
    "print(sql)"
   ]
  },
  {
   "cell_type": "markdown",
   "id": "a645953f",
   "metadata": {},
   "source": [
    "Execute the query against the database:"
   ]
  },
  {
   "cell_type": "code",
   "execution_count": 3,
   "id": "1788fd15",
   "metadata": {},
   "outputs": [
    {
     "name": "stdout",
     "output_type": "stream",
     "text": [
      "[(9,)]\n"
     ]
    }
   ],
   "source": [
    "cursor.execute(sql)\n",
    "result = cursor.fetchall()\n",
    "print(result)"
   ]
  },
  {
   "cell_type": "markdown",
   "id": "3f257007",
   "metadata": {},
   "source": [
    "Pass the question and the query results to the LLM and ask it to phrase an answer in natural language:"
   ]
  },
  {
   "cell_type": "code",
   "execution_count": 4,
   "id": "bd689108",
   "metadata": {},
   "outputs": [
    {
     "name": "stdout",
     "output_type": "stream",
     "text": [
      "Northwind has a total of 9 employees.\n"
     ]
    }
   ],
   "source": [
    "prompt = f'''\n",
    "    Given the following question and query result, phrase the answer\n",
    "    in terms that a human can understand.\n",
    "    \n",
    "    QUESTION: {question}\n",
    "    \n",
    "    RESULT: {result}\n",
    "    '''\n",
    "\n",
    "messages = [{ 'role': 'user', 'content': prompt }]\n",
    "\n",
    "response = client.chat.completions.create(\n",
    "    model='gpt-4o',\n",
    "    messages=messages\n",
    ")\n",
    "\n",
    "print(response.choices[0].message.content)"
   ]
  },
  {
   "cell_type": "markdown",
   "id": "428376cf",
   "metadata": {},
   "source": [
    "Now let's try a question that involves the Products table:"
   ]
  },
  {
   "cell_type": "code",
   "execution_count": 5,
   "id": "219620f6",
   "metadata": {},
   "outputs": [
    {
     "name": "stdout",
     "output_type": "stream",
     "text": [
      "SELECT ProductID, ProductName, SupplierID, CategoryID, QuantityPerUnit, UnitPrice, UnitsInStock, UnitsOnOrder, ReorderLevel\n",
      "FROM Products\n",
      "WHERE Discontinued = '1' AND UnitsInStock > 0;\n"
     ]
    }
   ],
   "source": [
    "question = 'Which products have been discontinued but are currently in stock?'\n",
    "\n",
    "prompt = f'''\n",
    "    Generate a well-formed SQLite query from the prompt below. Return\n",
    "    the SQL only. Do not use markdown formatting, and do not use SELECT *.\n",
    "    \n",
    "    PROMPT: {question}\n",
    "    \n",
    "    Assume the database has a table named Products that is defined as follows:\n",
    "    \n",
    "    CREATE TABLE [Products]\n",
    "    (\n",
    "        [ProductID] INTEGER NOT NULL PRIMARY KEY AUTOINCREMENT,\n",
    "        [ProductName] TEXT NOT NULL,\n",
    "        [SupplierID] INTEGER,\n",
    "        [CategoryID] INTEGER,\n",
    "        [QuantityPerUnit] TEXT,\n",
    "        [UnitPrice] NUMERIC DEFAULT 0,\n",
    "        [UnitsInStock] INTEGER DEFAULT 0,\n",
    "        [UnitsOnOrder] INTEGER DEFAULT 0,\n",
    "        [ReorderLevel] INTEGER DEFAULT 0,\n",
    "        [Discontinued] TEXT NOT NULL DEFAULT '0'\n",
    "    )\n",
    "    '''\n",
    "\n",
    "messages = [{ 'role': 'user', 'content': prompt }]\n",
    "\n",
    "response = client.chat.completions.create(\n",
    "    model='gpt-4o',\n",
    "    messages=messages,\n",
    "    temperature=0\n",
    ")\n",
    "\n",
    "sql = response.choices[0].message.content\n",
    "print(sql)"
   ]
  },
  {
   "cell_type": "markdown",
   "id": "8e4d18f2",
   "metadata": {},
   "source": [
    "Execute the query against the database:"
   ]
  },
  {
   "cell_type": "code",
   "execution_count": 6,
   "id": "c0aaa2cf",
   "metadata": {},
   "outputs": [
    {
     "name": "stdout",
     "output_type": "stream",
     "text": [
      "[(9, 'Mishi Kobe Niku', 4, 6, '18 - 500 g pkgs.', 97, 29, 0, 0), (24, 'Guaraná Fantástica', 10, 1, '12 - 355 ml cans', 4.5, 20, 0, 0), (28, 'Rössle Sauerkraut', 12, 7, '25 - 825 g cans', 45.6, 26, 0, 0), (42, 'Singaporean Hokkien Fried Mee', 20, 5, '32 - 1 kg pkgs.', 14, 26, 0, 0)]\n"
     ]
    }
   ],
   "source": [
    "cursor.execute(sql)\n",
    "result = cursor.fetchall()\n",
    "print(result)"
   ]
  },
  {
   "cell_type": "markdown",
   "id": "4fbf7ad5",
   "metadata": {},
   "source": [
    "Ask `GPT-4o` the phrase the answer using natural language:"
   ]
  },
  {
   "cell_type": "code",
   "execution_count": 7,
   "id": "aed3b96f",
   "metadata": {},
   "outputs": [
    {
     "name": "stdout",
     "output_type": "stream",
     "text": [
      "The following products have been discontinued but are still available in stock:\n",
      "\n",
      "1. **Mishi Kobe Niku** - There are 97 units in stock.\n",
      "2. **Guaraná Fantástica** - There are 4.5 units in stock.\n",
      "3. **Rössle Sauerkraut** - There are 45.6 units in stock.\n",
      "4. **Singaporean Hokkien Fried Mee** - There are 14 units in stock.\n"
     ]
    }
   ],
   "source": [
    "prompt = f'''\n",
    "    Given the following question and query result, phrase the answer\n",
    "    in terms that a human can understand.\n",
    "    \n",
    "    QUESTION: {question}\n",
    "    \n",
    "    RESULT: {result}\n",
    "    '''\n",
    "\n",
    "messages = [{ 'role': 'user', 'content': prompt }]\n",
    "\n",
    "response = client.chat.completions.create(\n",
    "    model='gpt-4o',\n",
    "    messages=messages\n",
    ")\n",
    "\n",
    "print(response.choices[0].message.content)"
   ]
  },
  {
   "cell_type": "markdown",
   "id": "e75b03ac",
   "metadata": {},
   "source": [
    "Do it again, but this time ask the LLM to include the number of units that are in stock for each item that has been discontinued as well as the combined value of all the units:"
   ]
  },
  {
   "cell_type": "code",
   "execution_count": 8,
   "id": "0478184f",
   "metadata": {},
   "outputs": [
    {
     "name": "stdout",
     "output_type": "stream",
     "text": [
      "SELECT ProductName, UnitsInStock, (UnitsInStock * UnitPrice) AS CombinedValue\n",
      "FROM Products\n",
      "WHERE Discontinued = '1' AND UnitsInStock > 0;\n"
     ]
    }
   ],
   "source": [
    "question = '''\n",
    "    Which products have been discontinued but are currently in stock,\n",
    "    how many of each is in stock, and what is the combined value of all\n",
    "    the products?\n",
    "    '''\n",
    "\n",
    "prompt = f'''\n",
    "    Generate a well-formed SQLite query from the prompt below. Return\n",
    "    the SQL only. Do not use markdown formatting, and do not use SELECT *.\n",
    "    \n",
    "    PROMPT: {question}\n",
    "    \n",
    "    Assume the database has a table named Products that is defined as follows:\n",
    "    \n",
    "    CREATE TABLE [Products]\n",
    "    (\n",
    "        [ProductID] INTEGER NOT NULL PRIMARY KEY AUTOINCREMENT,\n",
    "        [ProductName] TEXT NOT NULL,\n",
    "        [SupplierID] INTEGER,\n",
    "        [CategoryID] INTEGER,\n",
    "        [QuantityPerUnit] TEXT,\n",
    "        [UnitPrice] NUMERIC DEFAULT 0,\n",
    "        [UnitsInStock] INTEGER DEFAULT 0,\n",
    "        [UnitsOnOrder] INTEGER DEFAULT 0,\n",
    "        [ReorderLevel] INTEGER DEFAULT 0,\n",
    "        [Discontinued] TEXT NOT NULL DEFAULT '0'\n",
    "    )\n",
    "    '''\n",
    "\n",
    "messages = [\n",
    "    { 'role': 'user', 'content': prompt }\n",
    "]\n",
    "\n",
    "response = client.chat.completions.create(\n",
    "    model='gpt-4o',\n",
    "    messages=messages,\n",
    "    temperature=0\n",
    ")\n",
    "\n",
    "sql = response.choices[0].message.content\n",
    "print(sql)"
   ]
  },
  {
   "cell_type": "code",
   "execution_count": 9,
   "id": "cfd5e550",
   "metadata": {},
   "outputs": [
    {
     "name": "stdout",
     "output_type": "stream",
     "text": [
      "[('Mishi Kobe Niku', 29, 2813), ('Guaraná Fantástica', 20, 90.0), ('Rössle Sauerkraut', 26, 1185.6000000000001), ('Singaporean Hokkien Fried Mee', 26, 364)]\n"
     ]
    }
   ],
   "source": [
    "cursor.execute(sql)\n",
    "result = cursor.fetchall()\n",
    "print(result)"
   ]
  },
  {
   "cell_type": "code",
   "execution_count": 10,
   "id": "c48dc8ef",
   "metadata": {},
   "outputs": [
    {
     "name": "stdout",
     "output_type": "stream",
     "text": [
      "There are four discontinued products currently in stock. \n",
      "\n",
      "1. \"Mishi Kobe Niku\" has 29 units available, with a total value of $2,813.\n",
      "2. \"Guaraná Fantástica\" has 20 units available, with a total value of $90.\n",
      "3. \"Rössle Sauerkraut\" has 26 units available, with a total value of $1,185.60.\n",
      "4. \"Singaporean Hokkien Fried Mee\" has 26 units available, with a total value of $364.\n",
      "\n",
      "The combined value of all these discontinued products in stock is $4,452.60.\n"
     ]
    }
   ],
   "source": [
    "prompt = f'''\n",
    "    Given the following question and query result, phrase the answer\n",
    "    in terms that a human can understand. Express monetary amounts in\n",
    "    dollars.\n",
    "    \n",
    "    QUESTION: {question}\n",
    "    \n",
    "    RESULT: {result}\n",
    "    '''\n",
    "\n",
    "messages = [{ 'role': 'user', 'content': prompt }]\n",
    "\n",
    "response = client.chat.completions.create(\n",
    "    model='gpt-4o',\n",
    "    messages=messages\n",
    ")\n",
    "\n",
    "print(response.choices[0].message.content)"
   ]
  },
  {
   "cell_type": "markdown",
   "id": "11d71fc2-a76e-46ff-8d44-85eed35458e8",
   "metadata": {},
   "source": [
    "Queries can target multiple tables, too. Let's define a `text2sql` function that's aware of all the tables in the Northwind database and use it from this point on to generate queries. For good measure, we'll strip markdown characters from the output in case `GPT-4o` ignores our instruction to not return markdown:"
   ]
  },
  {
   "cell_type": "code",
   "execution_count": null,
   "id": "63c4ff4c-d173-4a65-97fb-4a0d66ea889e",
   "metadata": {},
   "outputs": [],
   "source": [
    "import re\n",
    "\n",
    "def text2sql(text):\n",
    "    prompt = f'''\n",
    "        Generate a well-formed SQLite query from the prompt below. Return\n",
    "        the SQL only. Do not use markdown formatting, and do not use SELECT *.\n",
    "\n",
    "        PROMPT: {text}\n",
    "    \n",
    "        The database targeted by the query contains the following tables:\n",
    "\n",
    "        CREATE TABLE [Categories]\n",
    "        (\n",
    "            [CategoryID] INTEGER PRIMARY KEY AUTOINCREMENT,\n",
    "            [CategoryName] TEXT,\n",
    "            [Description] TEXT\n",
    "        )\n",
    "\n",
    "        CREATE TABLE [Customers]\n",
    "        (\n",
    "            [CustomerID] TEXT,\n",
    "            [CompanyName] TEXT,\n",
    "            [ContactName] TEXT,\n",
    "            [ContactTitle] TEXT,\n",
    "            [Address] TEXT,\n",
    "            [City] TEXT,\n",
    "            [Region] TEXT,\n",
    "            [PostalCode] TEXT,\n",
    "            [Country] TEXT,\n",
    "            [Phone] TEXT,\n",
    "            [Fax] TEXT,\n",
    "            PRIMARY KEY (`CustomerID`)\n",
    "        )\n",
    "\n",
    "        CREATE TABLE [Employees]\n",
    "        (\n",
    "            [EmployeeID] INTEGER PRIMARY KEY AUTOINCREMENT,\n",
    "            [LastName] TEXT,\n",
    "            [FirstName] TEXT,\n",
    "            [Title] TEXT,\n",
    "            [TitleOfCourtesy] TEXT,\n",
    "            [BirthDate] DATE,\n",
    "            [HireDate] DATE,\n",
    "            [Address] TEXT,\n",
    "            [City] TEXT,\n",
    "            [Region] TEXT,\n",
    "            [PostalCode] TEXT,\n",
    "            [Country] TEXT,\n",
    "            [HomePhone] TEXT,\n",
    "            [Extension] TEXT,\n",
    "            [Notes] TEXT,\n",
    "            [ReportsTo] INTEGER,\n",
    "            FOREIGN KEY ([ReportsTo]) REFERENCES [Employees] ([EmployeeID]) \n",
    "        )\n",
    "\n",
    "        CREATE TABLE [Shippers]\n",
    "        (\n",
    "            [ShipperID] INTEGER NOT NULL PRIMARY KEY AUTOINCREMENT,\n",
    "            [CompanyName] TEXT NOT NULL,\n",
    "            [Phone] TEXT\n",
    "        )\n",
    "\n",
    "        CREATE TABLE [Suppliers]\n",
    "        (\n",
    "            [SupplierID] INTEGER NOT NULL PRIMARY KEY AUTOINCREMENT,\n",
    "            [CompanyName] TEXT NOT NULL,\n",
    "            [ContactName] TEXT,\n",
    "            [ContactTitle] TEXT,\n",
    "            [Address] TEXT,\n",
    "            [City] TEXT,\n",
    "            [Region] TEXT,\n",
    "            [PostalCode] TEXT,\n",
    "            [Country] TEXT,\n",
    "            [Phone] TEXT,\n",
    "            [Fax] TEXT,\n",
    "            [HomePage] TEXT\n",
    "        )\n",
    "\n",
    "        CREATE TABLE [Products]\n",
    "        (\n",
    "            [ProductID] INTEGER NOT NULL PRIMARY KEY AUTOINCREMENT,\n",
    "            [ProductName] TEXT NOT NULL,\n",
    "            [SupplierID] INTEGER,\n",
    "            [CategoryID] INTEGER,\n",
    "            [QuantityPerUnit] TEXT,\n",
    "            [UnitPrice] NUMERIC DEFAULT 0,\n",
    "            [UnitsInStock] INTEGER DEFAULT 0,\n",
    "            [UnitsOnOrder] INTEGER DEFAULT 0,\n",
    "            [ReorderLevel] INTEGER DEFAULT 0,\n",
    "            [Discontinued] TEXT NOT NULL DEFAULT '0',\n",
    "            FOREIGN KEY ([CategoryID]) REFERENCES [Categories] ([CategoryID]),\n",
    "            FOREIGN KEY ([SupplierID]) REFERENCES [Suppliers] ([SupplierID])\n",
    "        )\n",
    "\n",
    "        CREATE TABLE [Orders]\n",
    "        (\n",
    "            [OrderID] INTEGER PRIMARY KEY AUTOINCREMENT,\n",
    "            [CustomerID] INTEGER,\n",
    "            [EmployeeID] INTEGER,\n",
    "            [OrderDate] DATETIME,\n",
    "            [ShipperID] INTEGER,\n",
    "            FOREIGN KEY (EmployeeID) REFERENCES Employees (EmployeeID),\n",
    "            FOREIGN KEY (CustomerID) REFERENCES Customers (CustomerID),\n",
    "            FOREIGN KEY (ShipperID) REFERENCES Shippers (ShipperID)\n",
    "        );\n",
    "\n",
    "        CREATE TABLE [Order Details]\n",
    "        (\n",
    "            [OrderID] INTEGER NOT NULL,\n",
    "            [ProductID] INTEGER NOT NULL,\n",
    "            [UnitPrice] NUMERIC NOT NULL DEFAULT 0,\n",
    "            [Quantity] INTEGER NOT NULL DEFAULT 1,\n",
    "            [Discount] REAL NOT NULL DEFAULT 0,\n",
    "            PRIMARY KEY (\"OrderID\", \"ProductID\"),\n",
    "            FOREIGN KEY ([OrderID]) REFERENCES [Orders] ([OrderID]),\n",
    "            FOREIGN KEY ([ProductID]) REFERENCES [Products] ([ProductID]) \n",
    "        )\n",
    "        '''\n",
    "\n",
    "    messages = [\n",
    "        {\n",
    "            'role': 'system',\n",
    "            'content': 'You are a database expert who can convert questions into SQL queries'\n",
    "        },\n",
    "        {\n",
    "            'role': 'user',\n",
    "            'content': prompt\n",
    "        }\n",
    "    ]\n",
    "\n",
    "    client = OpenAI(api_key='OPENAI_API_KEY')\n",
    "    \n",
    "    response = client.chat.completions.create(\n",
    "        model='gpt-4o',\n",
    "        messages=messages,\n",
    "        temperature=0\n",
    "    )\n",
    "\n",
    "    sql = response.choices[0].message.content\n",
    "\n",
    "    # Strip markdown characters if present\n",
    "    pattern = r'^```[\\w]*\\n|\\n```$'\n",
    "    return re.sub(pattern, '', sql, flags=re.MULTILINE)"
   ]
  },
  {
   "cell_type": "markdown",
   "id": "e38f09c6-0df1-44c2-ade6-38263b02a9cf",
   "metadata": {},
   "source": [
    "Let's also define a helper function for executing database queries:"
   ]
  },
  {
   "cell_type": "code",
   "execution_count": 12,
   "id": "bc216634-824c-4471-970e-411217251f3c",
   "metadata": {},
   "outputs": [],
   "source": [
    "def execute_sql(sql):\n",
    "    connection = sqlite3.connect('data/northwind.db')\n",
    "    cursor = connection.cursor()\n",
    "    cursor.execute(sql)\n",
    "    rows = cursor.fetchall()\n",
    "    return rows"
   ]
  },
  {
   "cell_type": "markdown",
   "id": "99aeafb9-6d61-481b-a2d6-f8141484774b",
   "metadata": {},
   "source": [
    "Now let's use these functions to ask a question that requires data from multiple tables. Start by generating the query:"
   ]
  },
  {
   "cell_type": "code",
   "execution_count": 13,
   "id": "4aee789d-260b-45c7-9f57-e26ad3e9e94f",
   "metadata": {},
   "outputs": [
    {
     "name": "stdout",
     "output_type": "stream",
     "text": [
      "SELECT Products.ProductName, Suppliers.CompanyName\n",
      "FROM Products\n",
      "JOIN Suppliers ON Products.SupplierID = Suppliers.SupplierID\n",
      "WHERE Products.UnitsInStock = 0;\n"
     ]
    }
   ],
   "source": [
    "question = 'List all products that are currently out of stock and the suppliers for those products.'\n",
    "sql = text2sql(question)\n",
    "print(sql)"
   ]
  },
  {
   "cell_type": "markdown",
   "id": "1b40b959-7009-4ac9-aedb-ea4bf157f138",
   "metadata": {},
   "source": [
    "Execute the query and ask `GPT-4o` to phrase the results:"
   ]
  },
  {
   "cell_type": "code",
   "execution_count": 14,
   "id": "7afe4d15-7b3b-44a4-a323-75bbbfaa7a69",
   "metadata": {},
   "outputs": [
    {
     "name": "stdout",
     "output_type": "stream",
     "text": [
      "The following products are currently out of stock, along with their respective suppliers: \"Chef Anton's Gumbo Mix\" from New Orleans Cajun Delights, \"Alice Mutton\" from Pavlova, Ltd., \"Thüringer Rostbratwurst\" from Plutzer Lebensmittelgroßmärkte AG, \"Gorgonzola Telino\" from Formaggi Fortini s.r.l., and \"Perth Pasties\" from G'day, Mate.\n"
     ]
    }
   ],
   "source": [
    "result = execute_sql(sql)\n",
    "\n",
    "prompt = f'''\n",
    "    Given the following question and query result, phrase the answer\n",
    "    in terms that a human can understand.\n",
    "    \n",
    "    QUESTION: {question}\n",
    "    \n",
    "    RESULT: {result}\n",
    "    '''\n",
    "\n",
    "messages = [{ 'role': 'user', 'content': prompt }]\n",
    "\n",
    "response = client.chat.completions.create(\n",
    "    model='gpt-4o',\n",
    "    messages=messages\n",
    ")\n",
    "\n",
    "print(response.choices[0].message.content)"
   ]
  },
  {
   "cell_type": "markdown",
   "id": "4cd77832-14cf-45ae-8009-f27ee6d2075c",
   "metadata": {},
   "source": [
    "You can even use markdown formatting to enhance the output:"
   ]
  },
  {
   "cell_type": "code",
   "execution_count": 15,
   "id": "9978a013-9ef8-4dd3-ad4a-49c5a82767a4",
   "metadata": {},
   "outputs": [
    {
     "data": {
      "text/markdown": [
       "Certainly! Below is a list of products that are currently out of stock along with their respective suppliers:\n",
       "\n",
       "| Product                  | Supplier                          |\n",
       "|--------------------------|-----------------------------------|\n",
       "| Chef Anton's Gumbo Mix   | New Orleans Cajun Delights        |\n",
       "| Alice Mutton             | Pavlova, Ltd.                     |\n",
       "| Thüringer Rostbratwurst  | Plutzer Lebensmittelgroßmärkte AG |\n",
       "| Gorgonzola Telino        | Formaggi Fortini s.r.l.           |\n",
       "| Perth Pasties            | G'day, Mate                       |"
      ],
      "text/plain": [
       "<IPython.core.display.Markdown object>"
      ]
     },
     "metadata": {},
     "output_type": "display_data"
    }
   ],
   "source": [
    "from IPython.display import Markdown, display\n",
    "\n",
    "prompt = f'''\n",
    "    Given the following question and query result, phrase the answer in\n",
    "    terms that a human can understand. Format the results in markdown and\n",
    "    include a markdown table if appropriate.\n",
    "    \n",
    "    QUESTION: {question}\n",
    "    \n",
    "    RESULT: {result}\n",
    "    '''\n",
    "\n",
    "messages = [{ 'role': 'user', 'content': prompt }]\n",
    "\n",
    "response = client.chat.completions.create(\n",
    "    model='gpt-4o',\n",
    "    messages=messages\n",
    ")\n",
    "\n",
    "display(Markdown(response.choices[0].message.content))"
   ]
  },
  {
   "cell_type": "markdown",
   "id": "392cfa9b-bc40-42a0-bd09-43286e44c68e",
   "metadata": {},
   "source": [
    "## Combine with function calling\n",
    "\n",
    "Rather than repeatedly generate SQL queries, execute them, and pass the query results to the LLM for phrasing, let's roll all of it up into a function and expose it to the LLM using function calling. Start by defining a function that can be called to query the Northwind database:"
   ]
  },
  {
   "cell_type": "code",
   "execution_count": 16,
   "id": "d7ab7151-7568-4fa7-b5fe-d6ceb6693764",
   "metadata": {},
   "outputs": [],
   "source": [
    "def query_database(input):\n",
    "    sql = text2sql(input)\n",
    "    result = execute_sql(sql)\n",
    "    return json.dumps(result)"
   ]
  },
  {
   "cell_type": "markdown",
   "id": "88a74742-3fec-4846-9228-9731e2346ad2",
   "metadata": {},
   "source": [
    "Next, describe the function in JSON:"
   ]
  },
  {
   "cell_type": "code",
   "execution_count": 17,
   "id": "0b02582a-2f11-4140-af3f-e3d5d16dccdc",
   "metadata": {},
   "outputs": [],
   "source": [
    "database_tool = {\n",
    "    'type': 'function',\n",
    "    'function': {\n",
    "        'name': 'query_database',\n",
    "        'description': '''\n",
    "            Queries the Northwind database to answer a question or respond\n",
    "            to a command. Northwind contains information about sales, products,\n",
    "            orders, and employees of a fictitious company named Northwind Traders.\n",
    "            The database contains the following tables:\n",
    "\n",
    "            Categories - Information about product categories\n",
    "            Customers - Information about customers who purchase Northwind products\n",
    "            Employees - Information about employees of Northwind Traders\n",
    "            Shippers - Information about companies that ship Northwind products\n",
    "            Suppliers - Information about suppliers of Northwind products\n",
    "            Products - Information about the products that Northwind sells\n",
    "            Orders - Information about orders placed by Northwind customers\n",
    "            OrderDetails - Information about order details such as products and quantities\n",
    "            ''',\n",
    "        'parameters': {\n",
    "            'type': 'object',\n",
    "            'properties': {\n",
    "                'input': {\n",
    "                    'type': 'string',\n",
    "                    'description': 'Input from the user'\n",
    "                },\n",
    "            },\n",
    "            'required': ['input']\n",
    "        }\n",
    "    }\n",
    "}"
   ]
  },
  {
   "cell_type": "markdown",
   "id": "d4aaea0a-aa07-4b32-83c3-fb45e9658101",
   "metadata": {},
   "source": [
    "Now define a `chat` function that's aware of the `query_database` function and instruct the LLM to answer \"I don't know\" if asked a question whose answer can't be found in Northwind:"
   ]
  },
  {
   "cell_type": "code",
   "execution_count": 18,
   "id": "73804307-225b-47b7-80cc-fa3879d98849",
   "metadata": {},
   "outputs": [],
   "source": [
    "import json\n",
    "\n",
    "def chat(input, messages=None):\n",
    "    if not messages:\n",
    "        instructions = '''\n",
    "            You are a helpful assistant who can answer questions from the Northwind database.\n",
    "            Northwind contains information about sales, products, orders, and employees of a\n",
    "            fictitious company named Northwind Traders. The database contains the following\n",
    "            tables:\n",
    "\n",
    "            Categories - Information about product categories\n",
    "            Customers - Information about customers who purchase Northwind products\n",
    "            Employees - Information about employees of Northwind Traders\n",
    "            Shippers - Information about companies that ship Northwind products\n",
    "            Suppliers - Information about suppliers of Northwind products\n",
    "            Products - Information about the products that Northwind sells\n",
    "            Orders - Information about orders placed by Northwind customers\n",
    "            OrderDetails - Information about order details such as products and quantities  \n",
    "\n",
    "            Only answer questions that can be answered by querying the database. If asked a\n",
    "            question that can't be answered by a database query, say \"I don't know.\"\n",
    "            '''\n",
    "\n",
    "        messages = [{ 'role': 'system', 'content': instructions }]\n",
    "    \n",
    "    message = { 'role': 'user', 'content': input }\n",
    "    messages.append(message)\n",
    "\n",
    "    # Call the LLM  and make it aware of the database tool\n",
    "    response = client.chat.completions.create(\n",
    "        model='gpt-4o',\n",
    "        messages=messages,\n",
    "        tools=[database_tool]\n",
    "    )\n",
    "    \n",
    "    # If one or more tool calls are required, execute them\n",
    "    if response.choices[0].message.tool_calls:\n",
    "        for tool_call in response.choices[0].message.tool_calls:\n",
    "            function_name = tool_call.function.name\n",
    "    \n",
    "            if function_name == 'query_database':\n",
    "                input = json.loads(tool_call.function.arguments)['input']\n",
    "                output = query_database(input)\n",
    "\n",
    "                # Append the function output to the messages list\n",
    "                messages.append({ 'role': 'function', 'name': function_name, 'content': output })\n",
    "            else:\n",
    "                raise Exception('Invalid function name')\n",
    "    \n",
    "        # Pass the function output to the LLM\n",
    "        response = client.chat.completions.create(\n",
    "            model='gpt-4o',\n",
    "            messages=messages\n",
    "        )\n",
    "    \n",
    "    # Return a message thread containing the LLM's response\n",
    "    messages.append({ 'role': 'assistant', 'content': response.choices[0].message.content })\n",
    "    return messages"
   ]
  },
  {
   "cell_type": "markdown",
   "id": "53c8328f-6721-42b8-be36-097a9908f5a4",
   "metadata": {},
   "source": [
    "Use the `chat` function to get an answer to a question:"
   ]
  },
  {
   "cell_type": "code",
   "execution_count": 19,
   "id": "e7ad597c-601a-42ac-b2c5-4c321f177960",
   "metadata": {},
   "outputs": [
    {
     "name": "stdout",
     "output_type": "stream",
     "text": [
      "Here are the products that are currently out of stock along with their suppliers:\n",
      "\n",
      "1. Chef Anton's Gumbo Mix - New Orleans Cajun Delights\n",
      "2. Alice Mutton - Pavlova, Ltd.\n",
      "3. Thüringer Rostbratwurst - Plutzer Lebensmittelgroßmärkte AG\n",
      "4. Gorgonzola Telino - Formaggi Fortini s.r.l.\n",
      "5. Perth Pasties - G'day, Mate\n"
     ]
    }
   ],
   "source": [
    "messages = chat('List all products that are currently out of stock and the suppliers for those products.')\n",
    "print(messages[-1]['content'])"
   ]
  },
  {
   "cell_type": "markdown",
   "id": "8e79fb23-f800-474e-8656-29dc8638d3f3",
   "metadata": {},
   "source": [
    "Try another question:"
   ]
  },
  {
   "cell_type": "code",
   "execution_count": 20,
   "id": "58282bc0-c6bb-4edf-8810-1b6b89c11d78",
   "metadata": {},
   "outputs": [
    {
     "name": "stdout",
     "output_type": "stream",
     "text": [
      "Here are the products that are currently out of stock and their respective quantities on order:\n",
      "\n",
      "- Alice Mutton: 978 units on order\n",
      "- Chef Anton's Gumbo Mix: 298 units on order\n",
      "- Gorgonzola Telino: 1397 units on order\n",
      "- Perth Pasties: 722 units on order\n",
      "- Thüringer Rostbratwurst: 746 units on order\n"
     ]
    }
   ],
   "source": [
    "messages = chat('List all products that are currently out of stock and how many of each are currently on order.')\n",
    "print(messages[-1]['content'])"
   ]
  },
  {
   "cell_type": "markdown",
   "id": "3688055a-e09e-4b29-a75c-302cb0beca36",
   "metadata": {},
   "source": [
    "And then another:"
   ]
  },
  {
   "cell_type": "code",
   "execution_count": 21,
   "id": "9b913c20-1d53-4454-9e40-55aa883466ec",
   "metadata": {},
   "outputs": [
    {
     "name": "stdout",
     "output_type": "stream",
     "text": [
      "Northwind's most popular products and the quantities sold are as follows:\n",
      "\n",
      "1. Camembert Pierrot - 1,577 units\n",
      "2. Raclette Courdavault - 1,496 units\n",
      "3. Gorgonzola Telino - 1,397 units\n",
      "4. Gnocchi di nonna Alice - 1,263 units\n",
      "5. Pavlova - 1,158 units\n",
      "6. Rhönbräu Klosterbier - 1,155 units\n",
      "7. Guaraná Fantástica - 1,125 units\n",
      "8. Boston Crab Meat - 1,103 units\n",
      "9. Tarte au sucre - 1,083 units\n",
      "10. Flotemysost - 1,057 units\n"
     ]
    }
   ],
   "source": [
    "messages = chat(\"What are Northwind's most popular products, and how many of each have been sold?\")\n",
    "print(messages[-1]['content'])"
   ]
  },
  {
   "cell_type": "markdown",
   "id": "07911947-8807-4d4b-905e-31f417d9294f",
   "metadata": {},
   "source": [
    "Confirm that the LLM won't answer generic questions that have nothing to do with Northwind:"
   ]
  },
  {
   "cell_type": "code",
   "execution_count": 22,
   "id": "002399b0-9eba-4e5f-8203-e047ef503dd5",
   "metadata": {},
   "outputs": [
    {
     "name": "stdout",
     "output_type": "stream",
     "text": [
      "I don't know.\n"
     ]
    }
   ],
   "source": [
    "messages = chat('Why is the sky blue?')\n",
    "print(messages[-1]['content'])"
   ]
  },
  {
   "cell_type": "markdown",
   "id": "f53f1924-1732-40f5-9178-545ea19eb7e9",
   "metadata": {},
   "source": [
    "If you would like for the LLM to answer questions unrelated to the Northwind database, you can remove the text from the system prompt that instructs the LLM to say \"I don't know\" if a question can't be answered with a database query."
   ]
  }
 ],
 "metadata": {
  "kernelspec": {
   "display_name": "Python 3 (ipykernel)",
   "language": "python",
   "name": "python3"
  },
  "language_info": {
   "codemirror_mode": {
    "name": "ipython",
    "version": 3
   },
   "file_extension": ".py",
   "mimetype": "text/x-python",
   "name": "python",
   "nbconvert_exporter": "python",
   "pygments_lexer": "ipython3",
   "version": "3.11.4"
  }
 },
 "nbformat": 4,
 "nbformat_minor": 5
}
